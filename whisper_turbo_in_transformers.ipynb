{
  "nbformat": 4,
  "nbformat_minor": 0,
  "metadata": {
    "colab": {
      "provenance": [],
      "gpuType": "T4",
      "authorship_tag": "ABX9TyPT+5t09fyQA+TUzGEuW4N3",
      "include_colab_link": true
    },
    "kernelspec": {
      "name": "python3",
      "display_name": "Python 3"
    },
    "language_info": {
      "name": "python"
    },
    "accelerator": "GPU",
    "widgets": {
      "application/vnd.jupyter.widget-state+json": {
        "ecc39619c49c4eca91992eb58f40ed0e": {
          "model_module": "@jupyter-widgets/controls",
          "model_name": "HBoxModel",
          "model_module_version": "1.5.0",
          "state": {
            "_dom_classes": [],
            "_model_module": "@jupyter-widgets/controls",
            "_model_module_version": "1.5.0",
            "_model_name": "HBoxModel",
            "_view_count": null,
            "_view_module": "@jupyter-widgets/controls",
            "_view_module_version": "1.5.0",
            "_view_name": "HBoxView",
            "box_style": "",
            "children": [
              "IPY_MODEL_557c0ffdcd1e483eaadfc4e598119979",
              "IPY_MODEL_64f874febf9244e8ae292a7c942bc169",
              "IPY_MODEL_7456dd1957904d74acd70834211e0b96"
            ],
            "layout": "IPY_MODEL_0a2f8582414e46e8b47b12df0691e222"
          }
        },
        "557c0ffdcd1e483eaadfc4e598119979": {
          "model_module": "@jupyter-widgets/controls",
          "model_name": "HTMLModel",
          "model_module_version": "1.5.0",
          "state": {
            "_dom_classes": [],
            "_model_module": "@jupyter-widgets/controls",
            "_model_module_version": "1.5.0",
            "_model_name": "HTMLModel",
            "_view_count": null,
            "_view_module": "@jupyter-widgets/controls",
            "_view_module_version": "1.5.0",
            "_view_name": "HTMLView",
            "description": "",
            "description_tooltip": null,
            "layout": "IPY_MODEL_41dba60d03b942c8b571bda7b2466f29",
            "placeholder": "​",
            "style": "IPY_MODEL_6c191b48b117416a8933805bf6c05290",
            "value": "config.json: 100%"
          }
        },
        "64f874febf9244e8ae292a7c942bc169": {
          "model_module": "@jupyter-widgets/controls",
          "model_name": "FloatProgressModel",
          "model_module_version": "1.5.0",
          "state": {
            "_dom_classes": [],
            "_model_module": "@jupyter-widgets/controls",
            "_model_module_version": "1.5.0",
            "_model_name": "FloatProgressModel",
            "_view_count": null,
            "_view_module": "@jupyter-widgets/controls",
            "_view_module_version": "1.5.0",
            "_view_name": "ProgressView",
            "bar_style": "success",
            "description": "",
            "description_tooltip": null,
            "layout": "IPY_MODEL_596e88e8048f410fbabeb4c5508e720d",
            "max": 1256,
            "min": 0,
            "orientation": "horizontal",
            "style": "IPY_MODEL_40767690cc9741e59b4f508230e5ab9f",
            "value": 1256
          }
        },
        "7456dd1957904d74acd70834211e0b96": {
          "model_module": "@jupyter-widgets/controls",
          "model_name": "HTMLModel",
          "model_module_version": "1.5.0",
          "state": {
            "_dom_classes": [],
            "_model_module": "@jupyter-widgets/controls",
            "_model_module_version": "1.5.0",
            "_model_name": "HTMLModel",
            "_view_count": null,
            "_view_module": "@jupyter-widgets/controls",
            "_view_module_version": "1.5.0",
            "_view_name": "HTMLView",
            "description": "",
            "description_tooltip": null,
            "layout": "IPY_MODEL_22ccd2fc4079475ab620404c1dbab3d5",
            "placeholder": "​",
            "style": "IPY_MODEL_47416ddd9f9441bb9ac7be2213155738",
            "value": " 1.26k/1.26k [00:00&lt;00:00, 27.5kB/s]"
          }
        },
        "0a2f8582414e46e8b47b12df0691e222": {
          "model_module": "@jupyter-widgets/base",
          "model_name": "LayoutModel",
          "model_module_version": "1.2.0",
          "state": {
            "_model_module": "@jupyter-widgets/base",
            "_model_module_version": "1.2.0",
            "_model_name": "LayoutModel",
            "_view_count": null,
            "_view_module": "@jupyter-widgets/base",
            "_view_module_version": "1.2.0",
            "_view_name": "LayoutView",
            "align_content": null,
            "align_items": null,
            "align_self": null,
            "border": null,
            "bottom": null,
            "display": null,
            "flex": null,
            "flex_flow": null,
            "grid_area": null,
            "grid_auto_columns": null,
            "grid_auto_flow": null,
            "grid_auto_rows": null,
            "grid_column": null,
            "grid_gap": null,
            "grid_row": null,
            "grid_template_areas": null,
            "grid_template_columns": null,
            "grid_template_rows": null,
            "height": null,
            "justify_content": null,
            "justify_items": null,
            "left": null,
            "margin": null,
            "max_height": null,
            "max_width": null,
            "min_height": null,
            "min_width": null,
            "object_fit": null,
            "object_position": null,
            "order": null,
            "overflow": null,
            "overflow_x": null,
            "overflow_y": null,
            "padding": null,
            "right": null,
            "top": null,
            "visibility": null,
            "width": null
          }
        },
        "41dba60d03b942c8b571bda7b2466f29": {
          "model_module": "@jupyter-widgets/base",
          "model_name": "LayoutModel",
          "model_module_version": "1.2.0",
          "state": {
            "_model_module": "@jupyter-widgets/base",
            "_model_module_version": "1.2.0",
            "_model_name": "LayoutModel",
            "_view_count": null,
            "_view_module": "@jupyter-widgets/base",
            "_view_module_version": "1.2.0",
            "_view_name": "LayoutView",
            "align_content": null,
            "align_items": null,
            "align_self": null,
            "border": null,
            "bottom": null,
            "display": null,
            "flex": null,
            "flex_flow": null,
            "grid_area": null,
            "grid_auto_columns": null,
            "grid_auto_flow": null,
            "grid_auto_rows": null,
            "grid_column": null,
            "grid_gap": null,
            "grid_row": null,
            "grid_template_areas": null,
            "grid_template_columns": null,
            "grid_template_rows": null,
            "height": null,
            "justify_content": null,
            "justify_items": null,
            "left": null,
            "margin": null,
            "max_height": null,
            "max_width": null,
            "min_height": null,
            "min_width": null,
            "object_fit": null,
            "object_position": null,
            "order": null,
            "overflow": null,
            "overflow_x": null,
            "overflow_y": null,
            "padding": null,
            "right": null,
            "top": null,
            "visibility": null,
            "width": null
          }
        },
        "6c191b48b117416a8933805bf6c05290": {
          "model_module": "@jupyter-widgets/controls",
          "model_name": "DescriptionStyleModel",
          "model_module_version": "1.5.0",
          "state": {
            "_model_module": "@jupyter-widgets/controls",
            "_model_module_version": "1.5.0",
            "_model_name": "DescriptionStyleModel",
            "_view_count": null,
            "_view_module": "@jupyter-widgets/base",
            "_view_module_version": "1.2.0",
            "_view_name": "StyleView",
            "description_width": ""
          }
        },
        "596e88e8048f410fbabeb4c5508e720d": {
          "model_module": "@jupyter-widgets/base",
          "model_name": "LayoutModel",
          "model_module_version": "1.2.0",
          "state": {
            "_model_module": "@jupyter-widgets/base",
            "_model_module_version": "1.2.0",
            "_model_name": "LayoutModel",
            "_view_count": null,
            "_view_module": "@jupyter-widgets/base",
            "_view_module_version": "1.2.0",
            "_view_name": "LayoutView",
            "align_content": null,
            "align_items": null,
            "align_self": null,
            "border": null,
            "bottom": null,
            "display": null,
            "flex": null,
            "flex_flow": null,
            "grid_area": null,
            "grid_auto_columns": null,
            "grid_auto_flow": null,
            "grid_auto_rows": null,
            "grid_column": null,
            "grid_gap": null,
            "grid_row": null,
            "grid_template_areas": null,
            "grid_template_columns": null,
            "grid_template_rows": null,
            "height": null,
            "justify_content": null,
            "justify_items": null,
            "left": null,
            "margin": null,
            "max_height": null,
            "max_width": null,
            "min_height": null,
            "min_width": null,
            "object_fit": null,
            "object_position": null,
            "order": null,
            "overflow": null,
            "overflow_x": null,
            "overflow_y": null,
            "padding": null,
            "right": null,
            "top": null,
            "visibility": null,
            "width": null
          }
        },
        "40767690cc9741e59b4f508230e5ab9f": {
          "model_module": "@jupyter-widgets/controls",
          "model_name": "ProgressStyleModel",
          "model_module_version": "1.5.0",
          "state": {
            "_model_module": "@jupyter-widgets/controls",
            "_model_module_version": "1.5.0",
            "_model_name": "ProgressStyleModel",
            "_view_count": null,
            "_view_module": "@jupyter-widgets/base",
            "_view_module_version": "1.2.0",
            "_view_name": "StyleView",
            "bar_color": null,
            "description_width": ""
          }
        },
        "22ccd2fc4079475ab620404c1dbab3d5": {
          "model_module": "@jupyter-widgets/base",
          "model_name": "LayoutModel",
          "model_module_version": "1.2.0",
          "state": {
            "_model_module": "@jupyter-widgets/base",
            "_model_module_version": "1.2.0",
            "_model_name": "LayoutModel",
            "_view_count": null,
            "_view_module": "@jupyter-widgets/base",
            "_view_module_version": "1.2.0",
            "_view_name": "LayoutView",
            "align_content": null,
            "align_items": null,
            "align_self": null,
            "border": null,
            "bottom": null,
            "display": null,
            "flex": null,
            "flex_flow": null,
            "grid_area": null,
            "grid_auto_columns": null,
            "grid_auto_flow": null,
            "grid_auto_rows": null,
            "grid_column": null,
            "grid_gap": null,
            "grid_row": null,
            "grid_template_areas": null,
            "grid_template_columns": null,
            "grid_template_rows": null,
            "height": null,
            "justify_content": null,
            "justify_items": null,
            "left": null,
            "margin": null,
            "max_height": null,
            "max_width": null,
            "min_height": null,
            "min_width": null,
            "object_fit": null,
            "object_position": null,
            "order": null,
            "overflow": null,
            "overflow_x": null,
            "overflow_y": null,
            "padding": null,
            "right": null,
            "top": null,
            "visibility": null,
            "width": null
          }
        },
        "47416ddd9f9441bb9ac7be2213155738": {
          "model_module": "@jupyter-widgets/controls",
          "model_name": "DescriptionStyleModel",
          "model_module_version": "1.5.0",
          "state": {
            "_model_module": "@jupyter-widgets/controls",
            "_model_module_version": "1.5.0",
            "_model_name": "DescriptionStyleModel",
            "_view_count": null,
            "_view_module": "@jupyter-widgets/base",
            "_view_module_version": "1.2.0",
            "_view_name": "StyleView",
            "description_width": ""
          }
        },
        "cf3953c080f04d0eb47ce8e939248cf5": {
          "model_module": "@jupyter-widgets/controls",
          "model_name": "HBoxModel",
          "model_module_version": "1.5.0",
          "state": {
            "_dom_classes": [],
            "_model_module": "@jupyter-widgets/controls",
            "_model_module_version": "1.5.0",
            "_model_name": "HBoxModel",
            "_view_count": null,
            "_view_module": "@jupyter-widgets/controls",
            "_view_module_version": "1.5.0",
            "_view_name": "HBoxView",
            "box_style": "",
            "children": [
              "IPY_MODEL_94beb889ec9741218847805367e5da37",
              "IPY_MODEL_58c53b8132294f1cb1b3b6f0789ceefd",
              "IPY_MODEL_b2f60d5b4afb495d889badb74b3f55a4"
            ],
            "layout": "IPY_MODEL_519d54bbb4b6433782a76b801ee0f06a"
          }
        },
        "94beb889ec9741218847805367e5da37": {
          "model_module": "@jupyter-widgets/controls",
          "model_name": "HTMLModel",
          "model_module_version": "1.5.0",
          "state": {
            "_dom_classes": [],
            "_model_module": "@jupyter-widgets/controls",
            "_model_module_version": "1.5.0",
            "_model_name": "HTMLModel",
            "_view_count": null,
            "_view_module": "@jupyter-widgets/controls",
            "_view_module_version": "1.5.0",
            "_view_name": "HTMLView",
            "description": "",
            "description_tooltip": null,
            "layout": "IPY_MODEL_ccbea82d55d14360b649feebee9d89cf",
            "placeholder": "​",
            "style": "IPY_MODEL_dc7457c022504f7fbb13bbfa8f93d4c0",
            "value": "model.safetensors: 100%"
          }
        },
        "58c53b8132294f1cb1b3b6f0789ceefd": {
          "model_module": "@jupyter-widgets/controls",
          "model_name": "FloatProgressModel",
          "model_module_version": "1.5.0",
          "state": {
            "_dom_classes": [],
            "_model_module": "@jupyter-widgets/controls",
            "_model_module_version": "1.5.0",
            "_model_name": "FloatProgressModel",
            "_view_count": null,
            "_view_module": "@jupyter-widgets/controls",
            "_view_module_version": "1.5.0",
            "_view_name": "ProgressView",
            "bar_style": "success",
            "description": "",
            "description_tooltip": null,
            "layout": "IPY_MODEL_8412c1d626e14f9186c916e4be71d543",
            "max": 1617824864,
            "min": 0,
            "orientation": "horizontal",
            "style": "IPY_MODEL_d286cf5d4a7a4c369ce8e62b0227af21",
            "value": 1617824864
          }
        },
        "b2f60d5b4afb495d889badb74b3f55a4": {
          "model_module": "@jupyter-widgets/controls",
          "model_name": "HTMLModel",
          "model_module_version": "1.5.0",
          "state": {
            "_dom_classes": [],
            "_model_module": "@jupyter-widgets/controls",
            "_model_module_version": "1.5.0",
            "_model_name": "HTMLModel",
            "_view_count": null,
            "_view_module": "@jupyter-widgets/controls",
            "_view_module_version": "1.5.0",
            "_view_name": "HTMLView",
            "description": "",
            "description_tooltip": null,
            "layout": "IPY_MODEL_67937781cc4d4e4db603c053c1e6af68",
            "placeholder": "​",
            "style": "IPY_MODEL_d70d2f6a40c1450294628305f1ddedfb",
            "value": " 1.62G/1.62G [00:14&lt;00:00, 175MB/s]"
          }
        },
        "519d54bbb4b6433782a76b801ee0f06a": {
          "model_module": "@jupyter-widgets/base",
          "model_name": "LayoutModel",
          "model_module_version": "1.2.0",
          "state": {
            "_model_module": "@jupyter-widgets/base",
            "_model_module_version": "1.2.0",
            "_model_name": "LayoutModel",
            "_view_count": null,
            "_view_module": "@jupyter-widgets/base",
            "_view_module_version": "1.2.0",
            "_view_name": "LayoutView",
            "align_content": null,
            "align_items": null,
            "align_self": null,
            "border": null,
            "bottom": null,
            "display": null,
            "flex": null,
            "flex_flow": null,
            "grid_area": null,
            "grid_auto_columns": null,
            "grid_auto_flow": null,
            "grid_auto_rows": null,
            "grid_column": null,
            "grid_gap": null,
            "grid_row": null,
            "grid_template_areas": null,
            "grid_template_columns": null,
            "grid_template_rows": null,
            "height": null,
            "justify_content": null,
            "justify_items": null,
            "left": null,
            "margin": null,
            "max_height": null,
            "max_width": null,
            "min_height": null,
            "min_width": null,
            "object_fit": null,
            "object_position": null,
            "order": null,
            "overflow": null,
            "overflow_x": null,
            "overflow_y": null,
            "padding": null,
            "right": null,
            "top": null,
            "visibility": null,
            "width": null
          }
        },
        "ccbea82d55d14360b649feebee9d89cf": {
          "model_module": "@jupyter-widgets/base",
          "model_name": "LayoutModel",
          "model_module_version": "1.2.0",
          "state": {
            "_model_module": "@jupyter-widgets/base",
            "_model_module_version": "1.2.0",
            "_model_name": "LayoutModel",
            "_view_count": null,
            "_view_module": "@jupyter-widgets/base",
            "_view_module_version": "1.2.0",
            "_view_name": "LayoutView",
            "align_content": null,
            "align_items": null,
            "align_self": null,
            "border": null,
            "bottom": null,
            "display": null,
            "flex": null,
            "flex_flow": null,
            "grid_area": null,
            "grid_auto_columns": null,
            "grid_auto_flow": null,
            "grid_auto_rows": null,
            "grid_column": null,
            "grid_gap": null,
            "grid_row": null,
            "grid_template_areas": null,
            "grid_template_columns": null,
            "grid_template_rows": null,
            "height": null,
            "justify_content": null,
            "justify_items": null,
            "left": null,
            "margin": null,
            "max_height": null,
            "max_width": null,
            "min_height": null,
            "min_width": null,
            "object_fit": null,
            "object_position": null,
            "order": null,
            "overflow": null,
            "overflow_x": null,
            "overflow_y": null,
            "padding": null,
            "right": null,
            "top": null,
            "visibility": null,
            "width": null
          }
        },
        "dc7457c022504f7fbb13bbfa8f93d4c0": {
          "model_module": "@jupyter-widgets/controls",
          "model_name": "DescriptionStyleModel",
          "model_module_version": "1.5.0",
          "state": {
            "_model_module": "@jupyter-widgets/controls",
            "_model_module_version": "1.5.0",
            "_model_name": "DescriptionStyleModel",
            "_view_count": null,
            "_view_module": "@jupyter-widgets/base",
            "_view_module_version": "1.2.0",
            "_view_name": "StyleView",
            "description_width": ""
          }
        },
        "8412c1d626e14f9186c916e4be71d543": {
          "model_module": "@jupyter-widgets/base",
          "model_name": "LayoutModel",
          "model_module_version": "1.2.0",
          "state": {
            "_model_module": "@jupyter-widgets/base",
            "_model_module_version": "1.2.0",
            "_model_name": "LayoutModel",
            "_view_count": null,
            "_view_module": "@jupyter-widgets/base",
            "_view_module_version": "1.2.0",
            "_view_name": "LayoutView",
            "align_content": null,
            "align_items": null,
            "align_self": null,
            "border": null,
            "bottom": null,
            "display": null,
            "flex": null,
            "flex_flow": null,
            "grid_area": null,
            "grid_auto_columns": null,
            "grid_auto_flow": null,
            "grid_auto_rows": null,
            "grid_column": null,
            "grid_gap": null,
            "grid_row": null,
            "grid_template_areas": null,
            "grid_template_columns": null,
            "grid_template_rows": null,
            "height": null,
            "justify_content": null,
            "justify_items": null,
            "left": null,
            "margin": null,
            "max_height": null,
            "max_width": null,
            "min_height": null,
            "min_width": null,
            "object_fit": null,
            "object_position": null,
            "order": null,
            "overflow": null,
            "overflow_x": null,
            "overflow_y": null,
            "padding": null,
            "right": null,
            "top": null,
            "visibility": null,
            "width": null
          }
        },
        "d286cf5d4a7a4c369ce8e62b0227af21": {
          "model_module": "@jupyter-widgets/controls",
          "model_name": "ProgressStyleModel",
          "model_module_version": "1.5.0",
          "state": {
            "_model_module": "@jupyter-widgets/controls",
            "_model_module_version": "1.5.0",
            "_model_name": "ProgressStyleModel",
            "_view_count": null,
            "_view_module": "@jupyter-widgets/base",
            "_view_module_version": "1.2.0",
            "_view_name": "StyleView",
            "bar_color": null,
            "description_width": ""
          }
        },
        "67937781cc4d4e4db603c053c1e6af68": {
          "model_module": "@jupyter-widgets/base",
          "model_name": "LayoutModel",
          "model_module_version": "1.2.0",
          "state": {
            "_model_module": "@jupyter-widgets/base",
            "_model_module_version": "1.2.0",
            "_model_name": "LayoutModel",
            "_view_count": null,
            "_view_module": "@jupyter-widgets/base",
            "_view_module_version": "1.2.0",
            "_view_name": "LayoutView",
            "align_content": null,
            "align_items": null,
            "align_self": null,
            "border": null,
            "bottom": null,
            "display": null,
            "flex": null,
            "flex_flow": null,
            "grid_area": null,
            "grid_auto_columns": null,
            "grid_auto_flow": null,
            "grid_auto_rows": null,
            "grid_column": null,
            "grid_gap": null,
            "grid_row": null,
            "grid_template_areas": null,
            "grid_template_columns": null,
            "grid_template_rows": null,
            "height": null,
            "justify_content": null,
            "justify_items": null,
            "left": null,
            "margin": null,
            "max_height": null,
            "max_width": null,
            "min_height": null,
            "min_width": null,
            "object_fit": null,
            "object_position": null,
            "order": null,
            "overflow": null,
            "overflow_x": null,
            "overflow_y": null,
            "padding": null,
            "right": null,
            "top": null,
            "visibility": null,
            "width": null
          }
        },
        "d70d2f6a40c1450294628305f1ddedfb": {
          "model_module": "@jupyter-widgets/controls",
          "model_name": "DescriptionStyleModel",
          "model_module_version": "1.5.0",
          "state": {
            "_model_module": "@jupyter-widgets/controls",
            "_model_module_version": "1.5.0",
            "_model_name": "DescriptionStyleModel",
            "_view_count": null,
            "_view_module": "@jupyter-widgets/base",
            "_view_module_version": "1.2.0",
            "_view_name": "StyleView",
            "description_width": ""
          }
        },
        "ac531ff9647d4d26b35a1371a9cc5ce4": {
          "model_module": "@jupyter-widgets/controls",
          "model_name": "HBoxModel",
          "model_module_version": "1.5.0",
          "state": {
            "_dom_classes": [],
            "_model_module": "@jupyter-widgets/controls",
            "_model_module_version": "1.5.0",
            "_model_name": "HBoxModel",
            "_view_count": null,
            "_view_module": "@jupyter-widgets/controls",
            "_view_module_version": "1.5.0",
            "_view_name": "HBoxView",
            "box_style": "",
            "children": [
              "IPY_MODEL_3a42937c919341e6a65e57a891f40608",
              "IPY_MODEL_295e7a89ff614e1e9a3a47b9a05f392a",
              "IPY_MODEL_5f4ba8c0daa149f9ae8015f6311b6e50"
            ],
            "layout": "IPY_MODEL_d3361189588348e18ce63b5f50dbf7ed"
          }
        },
        "3a42937c919341e6a65e57a891f40608": {
          "model_module": "@jupyter-widgets/controls",
          "model_name": "HTMLModel",
          "model_module_version": "1.5.0",
          "state": {
            "_dom_classes": [],
            "_model_module": "@jupyter-widgets/controls",
            "_model_module_version": "1.5.0",
            "_model_name": "HTMLModel",
            "_view_count": null,
            "_view_module": "@jupyter-widgets/controls",
            "_view_module_version": "1.5.0",
            "_view_name": "HTMLView",
            "description": "",
            "description_tooltip": null,
            "layout": "IPY_MODEL_ae877be143054aa7baf25465f55cd41b",
            "placeholder": "​",
            "style": "IPY_MODEL_25059f4df9f84dae9a123f882dad215a",
            "value": "generation_config.json: 100%"
          }
        },
        "295e7a89ff614e1e9a3a47b9a05f392a": {
          "model_module": "@jupyter-widgets/controls",
          "model_name": "FloatProgressModel",
          "model_module_version": "1.5.0",
          "state": {
            "_dom_classes": [],
            "_model_module": "@jupyter-widgets/controls",
            "_model_module_version": "1.5.0",
            "_model_name": "FloatProgressModel",
            "_view_count": null,
            "_view_module": "@jupyter-widgets/controls",
            "_view_module_version": "1.5.0",
            "_view_name": "ProgressView",
            "bar_style": "success",
            "description": "",
            "description_tooltip": null,
            "layout": "IPY_MODEL_49862b8f5556446a845ce5c46854fb67",
            "max": 3772,
            "min": 0,
            "orientation": "horizontal",
            "style": "IPY_MODEL_e3124fd4688145bc9a1fe5e66a2f63e0",
            "value": 3772
          }
        },
        "5f4ba8c0daa149f9ae8015f6311b6e50": {
          "model_module": "@jupyter-widgets/controls",
          "model_name": "HTMLModel",
          "model_module_version": "1.5.0",
          "state": {
            "_dom_classes": [],
            "_model_module": "@jupyter-widgets/controls",
            "_model_module_version": "1.5.0",
            "_model_name": "HTMLModel",
            "_view_count": null,
            "_view_module": "@jupyter-widgets/controls",
            "_view_module_version": "1.5.0",
            "_view_name": "HTMLView",
            "description": "",
            "description_tooltip": null,
            "layout": "IPY_MODEL_bf13492ff8e9428fa3c72731e8cb07a4",
            "placeholder": "​",
            "style": "IPY_MODEL_0d7df5515f9f4f13b8294defd431d660",
            "value": " 3.77k/3.77k [00:00&lt;00:00, 145kB/s]"
          }
        },
        "d3361189588348e18ce63b5f50dbf7ed": {
          "model_module": "@jupyter-widgets/base",
          "model_name": "LayoutModel",
          "model_module_version": "1.2.0",
          "state": {
            "_model_module": "@jupyter-widgets/base",
            "_model_module_version": "1.2.0",
            "_model_name": "LayoutModel",
            "_view_count": null,
            "_view_module": "@jupyter-widgets/base",
            "_view_module_version": "1.2.0",
            "_view_name": "LayoutView",
            "align_content": null,
            "align_items": null,
            "align_self": null,
            "border": null,
            "bottom": null,
            "display": null,
            "flex": null,
            "flex_flow": null,
            "grid_area": null,
            "grid_auto_columns": null,
            "grid_auto_flow": null,
            "grid_auto_rows": null,
            "grid_column": null,
            "grid_gap": null,
            "grid_row": null,
            "grid_template_areas": null,
            "grid_template_columns": null,
            "grid_template_rows": null,
            "height": null,
            "justify_content": null,
            "justify_items": null,
            "left": null,
            "margin": null,
            "max_height": null,
            "max_width": null,
            "min_height": null,
            "min_width": null,
            "object_fit": null,
            "object_position": null,
            "order": null,
            "overflow": null,
            "overflow_x": null,
            "overflow_y": null,
            "padding": null,
            "right": null,
            "top": null,
            "visibility": null,
            "width": null
          }
        },
        "ae877be143054aa7baf25465f55cd41b": {
          "model_module": "@jupyter-widgets/base",
          "model_name": "LayoutModel",
          "model_module_version": "1.2.0",
          "state": {
            "_model_module": "@jupyter-widgets/base",
            "_model_module_version": "1.2.0",
            "_model_name": "LayoutModel",
            "_view_count": null,
            "_view_module": "@jupyter-widgets/base",
            "_view_module_version": "1.2.0",
            "_view_name": "LayoutView",
            "align_content": null,
            "align_items": null,
            "align_self": null,
            "border": null,
            "bottom": null,
            "display": null,
            "flex": null,
            "flex_flow": null,
            "grid_area": null,
            "grid_auto_columns": null,
            "grid_auto_flow": null,
            "grid_auto_rows": null,
            "grid_column": null,
            "grid_gap": null,
            "grid_row": null,
            "grid_template_areas": null,
            "grid_template_columns": null,
            "grid_template_rows": null,
            "height": null,
            "justify_content": null,
            "justify_items": null,
            "left": null,
            "margin": null,
            "max_height": null,
            "max_width": null,
            "min_height": null,
            "min_width": null,
            "object_fit": null,
            "object_position": null,
            "order": null,
            "overflow": null,
            "overflow_x": null,
            "overflow_y": null,
            "padding": null,
            "right": null,
            "top": null,
            "visibility": null,
            "width": null
          }
        },
        "25059f4df9f84dae9a123f882dad215a": {
          "model_module": "@jupyter-widgets/controls",
          "model_name": "DescriptionStyleModel",
          "model_module_version": "1.5.0",
          "state": {
            "_model_module": "@jupyter-widgets/controls",
            "_model_module_version": "1.5.0",
            "_model_name": "DescriptionStyleModel",
            "_view_count": null,
            "_view_module": "@jupyter-widgets/base",
            "_view_module_version": "1.2.0",
            "_view_name": "StyleView",
            "description_width": ""
          }
        },
        "49862b8f5556446a845ce5c46854fb67": {
          "model_module": "@jupyter-widgets/base",
          "model_name": "LayoutModel",
          "model_module_version": "1.2.0",
          "state": {
            "_model_module": "@jupyter-widgets/base",
            "_model_module_version": "1.2.0",
            "_model_name": "LayoutModel",
            "_view_count": null,
            "_view_module": "@jupyter-widgets/base",
            "_view_module_version": "1.2.0",
            "_view_name": "LayoutView",
            "align_content": null,
            "align_items": null,
            "align_self": null,
            "border": null,
            "bottom": null,
            "display": null,
            "flex": null,
            "flex_flow": null,
            "grid_area": null,
            "grid_auto_columns": null,
            "grid_auto_flow": null,
            "grid_auto_rows": null,
            "grid_column": null,
            "grid_gap": null,
            "grid_row": null,
            "grid_template_areas": null,
            "grid_template_columns": null,
            "grid_template_rows": null,
            "height": null,
            "justify_content": null,
            "justify_items": null,
            "left": null,
            "margin": null,
            "max_height": null,
            "max_width": null,
            "min_height": null,
            "min_width": null,
            "object_fit": null,
            "object_position": null,
            "order": null,
            "overflow": null,
            "overflow_x": null,
            "overflow_y": null,
            "padding": null,
            "right": null,
            "top": null,
            "visibility": null,
            "width": null
          }
        },
        "e3124fd4688145bc9a1fe5e66a2f63e0": {
          "model_module": "@jupyter-widgets/controls",
          "model_name": "ProgressStyleModel",
          "model_module_version": "1.5.0",
          "state": {
            "_model_module": "@jupyter-widgets/controls",
            "_model_module_version": "1.5.0",
            "_model_name": "ProgressStyleModel",
            "_view_count": null,
            "_view_module": "@jupyter-widgets/base",
            "_view_module_version": "1.2.0",
            "_view_name": "StyleView",
            "bar_color": null,
            "description_width": ""
          }
        },
        "bf13492ff8e9428fa3c72731e8cb07a4": {
          "model_module": "@jupyter-widgets/base",
          "model_name": "LayoutModel",
          "model_module_version": "1.2.0",
          "state": {
            "_model_module": "@jupyter-widgets/base",
            "_model_module_version": "1.2.0",
            "_model_name": "LayoutModel",
            "_view_count": null,
            "_view_module": "@jupyter-widgets/base",
            "_view_module_version": "1.2.0",
            "_view_name": "LayoutView",
            "align_content": null,
            "align_items": null,
            "align_self": null,
            "border": null,
            "bottom": null,
            "display": null,
            "flex": null,
            "flex_flow": null,
            "grid_area": null,
            "grid_auto_columns": null,
            "grid_auto_flow": null,
            "grid_auto_rows": null,
            "grid_column": null,
            "grid_gap": null,
            "grid_row": null,
            "grid_template_areas": null,
            "grid_template_columns": null,
            "grid_template_rows": null,
            "height": null,
            "justify_content": null,
            "justify_items": null,
            "left": null,
            "margin": null,
            "max_height": null,
            "max_width": null,
            "min_height": null,
            "min_width": null,
            "object_fit": null,
            "object_position": null,
            "order": null,
            "overflow": null,
            "overflow_x": null,
            "overflow_y": null,
            "padding": null,
            "right": null,
            "top": null,
            "visibility": null,
            "width": null
          }
        },
        "0d7df5515f9f4f13b8294defd431d660": {
          "model_module": "@jupyter-widgets/controls",
          "model_name": "DescriptionStyleModel",
          "model_module_version": "1.5.0",
          "state": {
            "_model_module": "@jupyter-widgets/controls",
            "_model_module_version": "1.5.0",
            "_model_name": "DescriptionStyleModel",
            "_view_count": null,
            "_view_module": "@jupyter-widgets/base",
            "_view_module_version": "1.2.0",
            "_view_name": "StyleView",
            "description_width": ""
          }
        }
      }
    }
  },
  "cells": [
    {
      "cell_type": "markdown",
      "metadata": {
        "id": "view-in-github",
        "colab_type": "text"
      },
      "source": [
        "<a href=\"https://colab.research.google.com/github/Vaibhavs10/notebooks/blob/main/whisper_turbo_in_transformers.ipynb\" target=\"_parent\"><img src=\"https://colab.research.google.com/assets/colab-badge.svg\" alt=\"Open In Colab\"/></a>"
      ]
    },
    {
      "cell_type": "markdown",
      "source": [
        "# Whisper Turbo in Transformers 🤗\n",
        "\n",
        "[Model Repo on the Hub 🤗](https://huggingface.co/ylacombe/whisper-large-v3-turbo)"
      ],
      "metadata": {
        "id": "uyIsUHZb00Y6"
      }
    },
    {
      "cell_type": "code",
      "execution_count": 3,
      "metadata": {
        "id": "vqoL_BFQ0Jpv"
      },
      "outputs": [],
      "source": [
        "!pip install -q transformers accelerate"
      ]
    },
    {
      "cell_type": "markdown",
      "source": [
        "# Setup the environment"
      ],
      "metadata": {
        "id": "nOEIBp0i5LR9"
      }
    },
    {
      "cell_type": "code",
      "source": [
        "import torch\n",
        "from transformers import AutoModelForSpeechSeq2Seq, AutoProcessor, pipeline"
      ],
      "metadata": {
        "id": "E2JqrLIg4WPl"
      },
      "execution_count": 4,
      "outputs": []
    },
    {
      "cell_type": "markdown",
      "source": [
        "# Load the model checkpoint"
      ],
      "metadata": {
        "id": "wfm1ZBFm5Skc"
      }
    },
    {
      "cell_type": "code",
      "source": [
        "model_id = \"ylacombe/whisper-large-v3-turbo\"\n",
        "\n",
        "model = AutoModelForSpeechSeq2Seq.from_pretrained(\n",
        "    model_id, torch_dtype=torch.float16, low_cpu_mem_usage=True, use_safetensors=True\n",
        ")\n",
        "model.to(\"cuda\")"
      ],
      "metadata": {
        "colab": {
          "base_uri": "https://localhost:8080/",
          "height": 1000,
          "referenced_widgets": [
            "ecc39619c49c4eca91992eb58f40ed0e",
            "557c0ffdcd1e483eaadfc4e598119979",
            "64f874febf9244e8ae292a7c942bc169",
            "7456dd1957904d74acd70834211e0b96",
            "0a2f8582414e46e8b47b12df0691e222",
            "41dba60d03b942c8b571bda7b2466f29",
            "6c191b48b117416a8933805bf6c05290",
            "596e88e8048f410fbabeb4c5508e720d",
            "40767690cc9741e59b4f508230e5ab9f",
            "22ccd2fc4079475ab620404c1dbab3d5",
            "47416ddd9f9441bb9ac7be2213155738",
            "cf3953c080f04d0eb47ce8e939248cf5",
            "94beb889ec9741218847805367e5da37",
            "58c53b8132294f1cb1b3b6f0789ceefd",
            "b2f60d5b4afb495d889badb74b3f55a4",
            "519d54bbb4b6433782a76b801ee0f06a",
            "ccbea82d55d14360b649feebee9d89cf",
            "dc7457c022504f7fbb13bbfa8f93d4c0",
            "8412c1d626e14f9186c916e4be71d543",
            "d286cf5d4a7a4c369ce8e62b0227af21",
            "67937781cc4d4e4db603c053c1e6af68",
            "d70d2f6a40c1450294628305f1ddedfb",
            "ac531ff9647d4d26b35a1371a9cc5ce4",
            "3a42937c919341e6a65e57a891f40608",
            "295e7a89ff614e1e9a3a47b9a05f392a",
            "5f4ba8c0daa149f9ae8015f6311b6e50",
            "d3361189588348e18ce63b5f50dbf7ed",
            "ae877be143054aa7baf25465f55cd41b",
            "25059f4df9f84dae9a123f882dad215a",
            "49862b8f5556446a845ce5c46854fb67",
            "e3124fd4688145bc9a1fe5e66a2f63e0",
            "bf13492ff8e9428fa3c72731e8cb07a4",
            "0d7df5515f9f4f13b8294defd431d660"
          ]
        },
        "id": "28YrTCuG5Rqd",
        "outputId": "d05c3c75-3931-4b73-d342-8f1242f9e540"
      },
      "execution_count": 5,
      "outputs": [
        {
          "output_type": "display_data",
          "data": {
            "text/plain": [
              "config.json:   0%|          | 0.00/1.26k [00:00<?, ?B/s]"
            ],
            "application/vnd.jupyter.widget-view+json": {
              "version_major": 2,
              "version_minor": 0,
              "model_id": "ecc39619c49c4eca91992eb58f40ed0e"
            }
          },
          "metadata": {}
        },
        {
          "output_type": "display_data",
          "data": {
            "text/plain": [
              "model.safetensors:   0%|          | 0.00/1.62G [00:00<?, ?B/s]"
            ],
            "application/vnd.jupyter.widget-view+json": {
              "version_major": 2,
              "version_minor": 0,
              "model_id": "cf3953c080f04d0eb47ce8e939248cf5"
            }
          },
          "metadata": {}
        },
        {
          "output_type": "display_data",
          "data": {
            "text/plain": [
              "generation_config.json:   0%|          | 0.00/3.77k [00:00<?, ?B/s]"
            ],
            "application/vnd.jupyter.widget-view+json": {
              "version_major": 2,
              "version_minor": 0,
              "model_id": "ac531ff9647d4d26b35a1371a9cc5ce4"
            }
          },
          "metadata": {}
        },
        {
          "output_type": "execute_result",
          "data": {
            "text/plain": [
              "WhisperForConditionalGeneration(\n",
              "  (model): WhisperModel(\n",
              "    (encoder): WhisperEncoder(\n",
              "      (conv1): Conv1d(128, 1280, kernel_size=(3,), stride=(1,), padding=(1,))\n",
              "      (conv2): Conv1d(1280, 1280, kernel_size=(3,), stride=(2,), padding=(1,))\n",
              "      (embed_positions): Embedding(1500, 1280)\n",
              "      (layers): ModuleList(\n",
              "        (0-31): 32 x WhisperEncoderLayer(\n",
              "          (self_attn): WhisperSdpaAttention(\n",
              "            (k_proj): Linear(in_features=1280, out_features=1280, bias=False)\n",
              "            (v_proj): Linear(in_features=1280, out_features=1280, bias=True)\n",
              "            (q_proj): Linear(in_features=1280, out_features=1280, bias=True)\n",
              "            (out_proj): Linear(in_features=1280, out_features=1280, bias=True)\n",
              "          )\n",
              "          (self_attn_layer_norm): LayerNorm((1280,), eps=1e-05, elementwise_affine=True)\n",
              "          (activation_fn): GELUActivation()\n",
              "          (fc1): Linear(in_features=1280, out_features=5120, bias=True)\n",
              "          (fc2): Linear(in_features=5120, out_features=1280, bias=True)\n",
              "          (final_layer_norm): LayerNorm((1280,), eps=1e-05, elementwise_affine=True)\n",
              "        )\n",
              "      )\n",
              "      (layer_norm): LayerNorm((1280,), eps=1e-05, elementwise_affine=True)\n",
              "    )\n",
              "    (decoder): WhisperDecoder(\n",
              "      (embed_tokens): Embedding(51866, 1280, padding_idx=50257)\n",
              "      (embed_positions): WhisperPositionalEmbedding(448, 1280)\n",
              "      (layers): ModuleList(\n",
              "        (0-3): 4 x WhisperDecoderLayer(\n",
              "          (self_attn): WhisperSdpaAttention(\n",
              "            (k_proj): Linear(in_features=1280, out_features=1280, bias=False)\n",
              "            (v_proj): Linear(in_features=1280, out_features=1280, bias=True)\n",
              "            (q_proj): Linear(in_features=1280, out_features=1280, bias=True)\n",
              "            (out_proj): Linear(in_features=1280, out_features=1280, bias=True)\n",
              "          )\n",
              "          (activation_fn): GELUActivation()\n",
              "          (self_attn_layer_norm): LayerNorm((1280,), eps=1e-05, elementwise_affine=True)\n",
              "          (encoder_attn): WhisperSdpaAttention(\n",
              "            (k_proj): Linear(in_features=1280, out_features=1280, bias=False)\n",
              "            (v_proj): Linear(in_features=1280, out_features=1280, bias=True)\n",
              "            (q_proj): Linear(in_features=1280, out_features=1280, bias=True)\n",
              "            (out_proj): Linear(in_features=1280, out_features=1280, bias=True)\n",
              "          )\n",
              "          (encoder_attn_layer_norm): LayerNorm((1280,), eps=1e-05, elementwise_affine=True)\n",
              "          (fc1): Linear(in_features=1280, out_features=5120, bias=True)\n",
              "          (fc2): Linear(in_features=5120, out_features=1280, bias=True)\n",
              "          (final_layer_norm): LayerNorm((1280,), eps=1e-05, elementwise_affine=True)\n",
              "        )\n",
              "      )\n",
              "      (layer_norm): LayerNorm((1280,), eps=1e-05, elementwise_affine=True)\n",
              "    )\n",
              "  )\n",
              "  (proj_out): Linear(in_features=1280, out_features=51866, bias=False)\n",
              ")"
            ]
          },
          "metadata": {},
          "execution_count": 5
        }
      ]
    },
    {
      "cell_type": "markdown",
      "source": [
        "# Setup the Speech Recognition pipeline"
      ],
      "metadata": {
        "id": "O78yOduY5gR2"
      }
    },
    {
      "cell_type": "code",
      "source": [
        "processor = AutoProcessor.from_pretrained(model_id)\n",
        "\n",
        "pipe = pipeline(\n",
        "    \"automatic-speech-recognition\",\n",
        "    model=model,\n",
        "    tokenizer=processor.tokenizer,\n",
        "    feature_extractor=processor.feature_extractor,\n",
        "    torch_dtype=torch.float16,\n",
        "    device=\"cuda\",\n",
        ")"
      ],
      "metadata": {
        "id": "GLvDCPpL5cy-"
      },
      "execution_count": 7,
      "outputs": []
    },
    {
      "cell_type": "markdown",
      "source": [
        "# Transcribe away!"
      ],
      "metadata": {
        "id": "5_HsLRCw543J"
      }
    },
    {
      "cell_type": "code",
      "source": [
        "!wget https://huggingface.co/datasets/reach-vb/random-audios/resolve/main/ted_60.wav"
      ],
      "metadata": {
        "colab": {
          "base_uri": "https://localhost:8080/"
        },
        "id": "trQz2Kjm6BRo",
        "outputId": "ac6561a5-f566-4360-bcf0-a2f5429600e1"
      },
      "execution_count": 8,
      "outputs": [
        {
          "output_type": "stream",
          "name": "stdout",
          "text": [
            "--2024-10-01 11:48:00--  https://huggingface.co/datasets/reach-vb/random-audios/resolve/main/ted_60.wav\n",
            "Resolving huggingface.co (huggingface.co)... 99.84.66.72, 99.84.66.70, 99.84.66.65, ...\n",
            "Connecting to huggingface.co (huggingface.co)|99.84.66.72|:443... connected.\n",
            "HTTP request sent, awaiting response... 302 Found\n",
            "Location: https://cdn-lfs.hf.co/repos/96/e4/96e4f69cd112b019dd764318570e47e5fe96de53d8c32a99d745e72d9086e355/7795cbebcdf651ebbe4b1d8f36d7cde2286d482b800670c70bf7ce449c9f1ed5?response-content-disposition=inline%3B+filename*%3DUTF-8%27%27ted_60.wav%3B+filename%3D%22ted_60.wav%22%3B&response-content-type=audio%2Fwave&Expires=1728042480&Policy=eyJTdGF0ZW1lbnQiOlt7IkNvbmRpdGlvbiI6eyJEYXRlTGVzc1RoYW4iOnsiQVdTOkVwb2NoVGltZSI6MTcyODA0MjQ4MH19LCJSZXNvdXJjZSI6Imh0dHBzOi8vY2RuLWxmcy5oZi5jby9yZXBvcy85Ni9lNC85NmU0ZjY5Y2QxMTJiMDE5ZGQ3NjQzMTg1NzBlNDdlNWZlOTZkZTUzZDhjMzJhOTlkNzQ1ZTcyZDkwODZlMzU1Lzc3OTVjYmViY2RmNjUxZWJiZTRiMWQ4ZjM2ZDdjZGUyMjg2ZDQ4MmI4MDA2NzBjNzBiZjdjZTQ0OWM5ZjFlZDU%7EcmVzcG9uc2UtY29udGVudC1kaXNwb3NpdGlvbj0qJnJlc3BvbnNlLWNvbnRlbnQtdHlwZT0qIn1dfQ__&Signature=W8eBbIpVTPduZBZxWibeC8lteC0NY9zHD5ZNjGKLPuSKaKX9RAasAvvuj6o5NpHteeTsD6JYVBlKcvH%7EO-Sk1wcVEpKybkfMjq6QsnGY7JAemxxHFJQJs1skAqu0VnHXdMKfJZPT5eTRjeSodqcZejq4CyFy3P5uK81xMZtfyz2e-t0I2mEtHXcQ-LuWti98GtyyYQhVaObDB30X%7E6RXMQ0TMWFO9Yi3cMrcj5fqZF1Qz8-EsPxOoRWTiTrB5aZGEGeCqKEu1po7fiOeXhtZasPHJUNAqAaM4hEFUvdThr5oeBQmGAAdv79WZoP6kUacJfjXUhV11pmPS9%7EY9vm6pg__&Key-Pair-Id=K3RPWS32NSSJCE [following]\n",
            "--2024-10-01 11:48:00--  https://cdn-lfs.hf.co/repos/96/e4/96e4f69cd112b019dd764318570e47e5fe96de53d8c32a99d745e72d9086e355/7795cbebcdf651ebbe4b1d8f36d7cde2286d482b800670c70bf7ce449c9f1ed5?response-content-disposition=inline%3B+filename*%3DUTF-8%27%27ted_60.wav%3B+filename%3D%22ted_60.wav%22%3B&response-content-type=audio%2Fwave&Expires=1728042480&Policy=eyJTdGF0ZW1lbnQiOlt7IkNvbmRpdGlvbiI6eyJEYXRlTGVzc1RoYW4iOnsiQVdTOkVwb2NoVGltZSI6MTcyODA0MjQ4MH19LCJSZXNvdXJjZSI6Imh0dHBzOi8vY2RuLWxmcy5oZi5jby9yZXBvcy85Ni9lNC85NmU0ZjY5Y2QxMTJiMDE5ZGQ3NjQzMTg1NzBlNDdlNWZlOTZkZTUzZDhjMzJhOTlkNzQ1ZTcyZDkwODZlMzU1Lzc3OTVjYmViY2RmNjUxZWJiZTRiMWQ4ZjM2ZDdjZGUyMjg2ZDQ4MmI4MDA2NzBjNzBiZjdjZTQ0OWM5ZjFlZDU%7EcmVzcG9uc2UtY29udGVudC1kaXNwb3NpdGlvbj0qJnJlc3BvbnNlLWNvbnRlbnQtdHlwZT0qIn1dfQ__&Signature=W8eBbIpVTPduZBZxWibeC8lteC0NY9zHD5ZNjGKLPuSKaKX9RAasAvvuj6o5NpHteeTsD6JYVBlKcvH%7EO-Sk1wcVEpKybkfMjq6QsnGY7JAemxxHFJQJs1skAqu0VnHXdMKfJZPT5eTRjeSodqcZejq4CyFy3P5uK81xMZtfyz2e-t0I2mEtHXcQ-LuWti98GtyyYQhVaObDB30X%7E6RXMQ0TMWFO9Yi3cMrcj5fqZF1Qz8-EsPxOoRWTiTrB5aZGEGeCqKEu1po7fiOeXhtZasPHJUNAqAaM4hEFUvdThr5oeBQmGAAdv79WZoP6kUacJfjXUhV11pmPS9%7EY9vm6pg__&Key-Pair-Id=K3RPWS32NSSJCE\n",
            "Resolving cdn-lfs.hf.co (cdn-lfs.hf.co)... 18.238.217.81, 18.238.217.113, 18.238.217.120, ...\n",
            "Connecting to cdn-lfs.hf.co (cdn-lfs.hf.co)|18.238.217.81|:443... connected.\n",
            "HTTP request sent, awaiting response... 200 OK\n",
            "Length: 11520078 (11M) [audio/wave]\n",
            "Saving to: ‘ted_60.wav’\n",
            "\n",
            "ted_60.wav          100%[===================>]  10.99M  52.3MB/s    in 0.2s    \n",
            "\n",
            "2024-10-01 11:48:01 (52.3 MB/s) - ‘ted_60.wav’ saved [11520078/11520078]\n",
            "\n"
          ]
        }
      ]
    },
    {
      "cell_type": "code",
      "source": [
        "result = pipe(\"ted_60.wav\")"
      ],
      "metadata": {
        "colab": {
          "base_uri": "https://localhost:8080/"
        },
        "id": "rQZWYKxP5zCm",
        "outputId": "c5595302-abd3-4e1b-b753-bc149694e68b"
      },
      "execution_count": 10,
      "outputs": [
        {
          "output_type": "stream",
          "name": "stderr",
          "text": [
            "/usr/local/lib/python3.10/dist-packages/transformers/models/whisper/generation_whisper.py:496: FutureWarning: The input name `inputs` is deprecated. Please make sure to use `input_features` instead.\n",
            "  warnings.warn(\n"
          ]
        }
      ]
    },
    {
      "cell_type": "code",
      "source": [
        "print(result[\"text\"])"
      ],
      "metadata": {
        "colab": {
          "base_uri": "https://localhost:8080/"
        },
        "id": "rCWn4DtZ6ODg",
        "outputId": "f74e0f3e-681b-44af-8273-5c893a92e268"
      },
      "execution_count": 11,
      "outputs": [
        {
          "output_type": "stream",
          "name": "stdout",
          "text": [
            " So in college, I was a government major, which means I had to write a lot of papers. Now, when a normal student writes a paper, they might spread the work out a little like this. So, you know, you get started maybe a little slowly, but you get enough done in the first week that with some heavier days later on, everything gets done and things stay civil. And I would want to do that like that. That would be the plan. I would have it all ready to go, but then actually the paper would come along, and then I would kind of do this. And that would happen every single paper. But then came my 90-page senior thesis, a paper you're supposed to spend a year on. I knew for a paper like that, my normal workflow was not an option, it was way too big a project. So I planned things out, and I decided I kind of had to go something like this. This is how the year would go. So I'd start off light, and I'd bump it up,\n"
          ]
        }
      ]
    },
    {
      "cell_type": "markdown",
      "source": [
        "# Transcriptions with Timestamps"
      ],
      "metadata": {
        "id": "R0_5fgoS6XxU"
      }
    },
    {
      "cell_type": "code",
      "source": [
        "result = pipe(\"ted_60.wav\", return_timestamps=True)"
      ],
      "metadata": {
        "colab": {
          "base_uri": "https://localhost:8080/"
        },
        "id": "Za3QVFMG6WFj",
        "outputId": "0d51cad8-7db5-4091-d640-7471d370fc2c"
      },
      "execution_count": 12,
      "outputs": [
        {
          "output_type": "stream",
          "name": "stderr",
          "text": [
            "/usr/local/lib/python3.10/dist-packages/transformers/models/whisper/generation_whisper.py:496: FutureWarning: The input name `inputs` is deprecated. Please make sure to use `input_features` instead.\n",
            "  warnings.warn(\n"
          ]
        }
      ]
    },
    {
      "cell_type": "code",
      "source": [
        "print(result[\"chunks\"])"
      ],
      "metadata": {
        "colab": {
          "base_uri": "https://localhost:8080/"
        },
        "id": "-qz8q5mq6fwT",
        "outputId": "4630bbba-dbb5-4253-c18c-9bc70877b3e0"
      },
      "execution_count": 14,
      "outputs": [
        {
          "output_type": "stream",
          "name": "stdout",
          "text": [
            "[{'timestamp': (0.0, 4.92), 'text': ' So in college, I was a government major,'}, {'timestamp': (4.94, 7.38), 'text': ' which means I had to write a lot of papers.'}, {'timestamp': (7.4, 9.48), 'text': ' Now, when a normal student writes a paper,'}, {'timestamp': (9.5, 12.18), 'text': ' they might spread the work out a little like this.'}, {'timestamp': (12.2, 13.48), 'text': ' So, you know,'}, {'timestamp': (14.76, 16.76), 'text': ' you get started maybe a little slowly,'}, {'timestamp': (16.78, 18.68), 'text': ' but you get enough done in the first week'}, {'timestamp': (18.7, 20.32), 'text': ' that with some heavier days later on,'}, {'timestamp': (20.34, 22.72), 'text': ' everything gets done and things stay civil.'}, {'timestamp': (23.94, 26.16), 'text': ' And I would want to do that like that.'}, {'timestamp': (26.18, 27.38), 'text': ' That would be the plan.'}, {'timestamp': (0.0, 2.54), 'text': ' I would have it all ready to go,'}, {'timestamp': (2.56, 5.06), 'text': ' but then actually the paper would come along,'}, {'timestamp': (5.08, 6.5), 'text': ' and then I would kind of do this.'}, {'timestamp': (9.4, 11.42), 'text': ' And that would happen every single paper.'}, {'timestamp': (12.24, 16.18), 'text': ' But then came my 90-page senior thesis,'}, {'timestamp': (16.2, 18.48), 'text': \" a paper you're supposed to spend a year on.\"}, {'timestamp': (18.5, 22.1), 'text': ' I knew for a paper like that, my normal workflow was not an option,'}, {'timestamp': (22.12, 23.52), 'text': ' it was way too big a project.'}, {'timestamp': (23.54, 28.4), 'text': ' So I planned things out, and I decided I kind of had to go something like this.'}, {'timestamp': (28.42, 29.6), 'text': ' This is how the year would go.'}, {'timestamp': (0.0, 2.24), 'text': \" So I'd start off light,\"}, {'timestamp': (2.26, 3.0), 'text': \" and I'd bump it up,\"}]\n"
          ]
        }
      ]
    },
    {
      "cell_type": "markdown",
      "source": [
        "# Transcriptions with Word Timestamps"
      ],
      "metadata": {
        "id": "wFHXyHd-7G81"
      }
    },
    {
      "cell_type": "code",
      "source": [
        "result = pipe(\"ted_60.wav\", return_timestamps=\"word\")"
      ],
      "metadata": {
        "colab": {
          "base_uri": "https://localhost:8080/"
        },
        "id": "0xzJeSqQ6qjd",
        "outputId": "779df260-506f-4bd9-cb4f-aecf18a5b8d0"
      },
      "execution_count": 15,
      "outputs": [
        {
          "output_type": "stream",
          "name": "stderr",
          "text": [
            "/usr/local/lib/python3.10/dist-packages/transformers/models/whisper/generation_whisper.py:496: FutureWarning: The input name `inputs` is deprecated. Please make sure to use `input_features` instead.\n",
            "  warnings.warn(\n",
            "WhisperModel is using WhisperSdpaAttention, but `torch.nn.functional.scaled_dot_product_attention` does not support `output_attentions=True` or `layer_head_mask` not None. Falling back to the manual attention implementation, but specifying the manual implementation will be required from Transformers version v5.0.0 onwards. This warning can be removed using the argument `attn_implementation=\"eager\"` when loading the model.\n"
          ]
        }
      ]
    },
    {
      "cell_type": "code",
      "source": [
        "print(result[\"chunks\"])"
      ],
      "metadata": {
        "colab": {
          "base_uri": "https://localhost:8080/"
        },
        "id": "wkI1IGhY7Xrv",
        "outputId": "af5ae7e5-ca63-45a5-e7b1-42ef02da6fb3"
      },
      "execution_count": 16,
      "outputs": [
        {
          "output_type": "stream",
          "name": "stdout",
          "text": [
            "[{'text': ' So', 'timestamp': (0.56, 0.74)}, {'text': ' in', 'timestamp': (0.74, 0.9)}, {'text': ' college,', 'timestamp': (0.9, 1.76)}, {'text': ' I', 'timestamp': (1.76, 3.5)}, {'text': ' was', 'timestamp': (3.5, 3.64)}, {'text': ' a', 'timestamp': (3.64, 3.74)}, {'text': ' government', 'timestamp': (3.74, 4.02)}, {'text': ' major,', 'timestamp': (4.02, 4.68)}, {'text': ' which', 'timestamp': (4.92, 5.06)}, {'text': ' means', 'timestamp': (5.06, 5.26)}, {'text': ' I', 'timestamp': (5.26, 5.4)}, {'text': ' had', 'timestamp': (5.4, 5.56)}, {'text': ' to', 'timestamp': (5.56, 5.66)}, {'text': ' write', 'timestamp': (5.66, 5.86)}, {'text': ' a', 'timestamp': (5.86, 5.98)}, {'text': ' lot', 'timestamp': (5.98, 6.08)}, {'text': ' of', 'timestamp': (6.08, 6.22)}, {'text': ' papers.', 'timestamp': (6.22, 7.1)}, {'text': ' Now,', 'timestamp': (7.42, 7.68)}, {'text': ' when', 'timestamp': (7.68, 7.78)}, {'text': ' a', 'timestamp': (7.78, 7.88)}, {'text': ' normal', 'timestamp': (7.88, 8.06)}, {'text': ' student', 'timestamp': (8.06, 8.36)}, {'text': ' writes', 'timestamp': (8.36, 8.56)}, {'text': ' a', 'timestamp': (8.56, 8.66)}, {'text': ' paper,', 'timestamp': (8.66, 8.94)}, {'text': ' they', 'timestamp': (8.94, 9.0)}, {'text': ' might', 'timestamp': (9.0, 9.12)}, {'text': ' spread', 'timestamp': (9.12, 9.36)}, {'text': ' the', 'timestamp': (9.36, 9.48)}, {'text': ' work', 'timestamp': (9.48, 9.68)}, {'text': ' out', 'timestamp': (9.68, 9.8)}, {'text': ' a', 'timestamp': (9.8, 9.9)}, {'text': ' little', 'timestamp': (9.9, 10.0)}, {'text': ' like', 'timestamp': (10.0, 10.18)}, {'text': ' this.', 'timestamp': (10.18, 10.86)}, {'text': ' So,', 'timestamp': (11.78, 12.0)}, {'text': ' you', 'timestamp': (12.0, 12.06)}, {'text': ' know,', 'timestamp': (12.06, 12.42)}, {'text': ' you', 'timestamp': (14.7, 14.98)}, {'text': ' get', 'timestamp': (14.98, 15.26)}, {'text': ' started', 'timestamp': (15.26, 15.54)}, {'text': ' maybe', 'timestamp': (15.54, 15.72)}, {'text': ' a', 'timestamp': (15.72, 15.82)}, {'text': ' little', 'timestamp': (15.82, 15.92)}, {'text': ' slowly,', 'timestamp': (15.92, 16.26)}, {'text': ' but', 'timestamp': (16.34, 16.44)}, {'text': ' you', 'timestamp': (16.44, 16.52)}, {'text': ' get', 'timestamp': (16.52, 16.62)}, {'text': ' enough', 'timestamp': (16.62, 16.86)}, {'text': ' done', 'timestamp': (16.86, 17.08)}, {'text': ' in', 'timestamp': (17.08, 17.22)}, {'text': ' the', 'timestamp': (17.22, 17.3)}, {'text': ' first', 'timestamp': (17.3, 17.5)}, {'text': ' week', 'timestamp': (17.5, 17.8)}, {'text': ' that', 'timestamp': (17.92, 18.1)}, {'text': ' with', 'timestamp': (18.1, 18.48)}, {'text': ' some', 'timestamp': (18.48, 18.64)}, {'text': ' heavier', 'timestamp': (18.64, 18.88)}, {'text': ' days', 'timestamp': (18.88, 19.14)}, {'text': ' later', 'timestamp': (19.14, 19.36)}, {'text': ' on,', 'timestamp': (19.36, 19.86)}, {'text': ' everything', 'timestamp': (20.38, 20.58)}, {'text': ' gets', 'timestamp': (20.58, 20.78)}, {'text': ' done', 'timestamp': (20.78, 21.0)}, {'text': ' and', 'timestamp': (21.0, 21.18)}, {'text': ' things', 'timestamp': (21.18, 21.36)}, {'text': ' stay', 'timestamp': (21.36, 21.58)}, {'text': ' civil.', 'timestamp': (21.58, 22.14)}, {'text': ' And', 'timestamp': (23.88, 24.04)}, {'text': ' I', 'timestamp': (24.04, 24.18)}, {'text': ' would', 'timestamp': (24.18, 24.3)}, {'text': ' want', 'timestamp': (24.3, 24.48)}, {'text': ' to', 'timestamp': (24.48, 24.6)}, {'text': ' do', 'timestamp': (24.6, 24.84)}, {'text': ' that', 'timestamp': (24.84, 25.18)}, {'text': ' like', 'timestamp': (25.18, 25.44)}, {'text': ' that.', 'timestamp': (25.44, 25.94)}, {'text': ' That', 'timestamp': (26.16, 26.3)}, {'text': ' would', 'timestamp': (26.3, 26.4)}, {'text': ' be', 'timestamp': (26.4, 26.52)}, {'text': ' the', 'timestamp': (26.52, 26.62)}, {'text': ' plan.', 'timestamp': (26.62, 27.18)}, {'text': ' I', 'timestamp': (27.38, 27.54)}, {'text': ' would', 'timestamp': (27.54, 27.9)}, {'text': ' have', 'timestamp': (27.9, 29.04)}, {'text': ' it', 'timestamp': (29.04, 29.18)}, {'text': ' all', 'timestamp': (29.18, 29.3)}, {'text': ' ready', 'timestamp': (29.3, 29.46)}, {'text': ' to', 'timestamp': (29.46, 29.6)}, {'text': ' go,', 'timestamp': (29.6, 29.92)}, {'text': ' but', 'timestamp': (29.98, 30.04)}, {'text': ' then', 'timestamp': (30.04, 30.2)}, {'text': ' actually', 'timestamp': (30.2, 31.06)}, {'text': ' the', 'timestamp': (31.06, 31.24)}, {'text': ' paper', 'timestamp': (31.24, 31.48)}, {'text': ' would', 'timestamp': (31.48, 31.68)}, {'text': ' come', 'timestamp': (31.68, 32.04)}, {'text': ' along,', 'timestamp': (32.04, 32.48)}, {'text': ' and', 'timestamp': (32.48, 32.54)}, {'text': ' then', 'timestamp': (32.54, 32.62)}, {'text': ' I', 'timestamp': (32.62, 32.72)}, {'text': ' would', 'timestamp': (32.72, 32.8)}, {'text': ' kind', 'timestamp': (32.8, 32.92)}, {'text': ' of', 'timestamp': (32.92, 33.0)}, {'text': ' do', 'timestamp': (33.0, 33.16)}, {'text': ' this.', 'timestamp': (33.16, 33.86)}, {'text': ' And', 'timestamp': (36.66, 36.92)}, {'text': ' that', 'timestamp': (36.92, 37.06)}, {'text': ' would', 'timestamp': (37.06, 37.14)}, {'text': ' happen', 'timestamp': (37.14, 37.48)}, {'text': ' every', 'timestamp': (37.48, 37.8)}, {'text': ' single', 'timestamp': (37.8, 38.1)}, {'text': ' paper.', 'timestamp': (38.1, 38.68)}, {'text': ' But', 'timestamp': (39.6, 39.76)}, {'text': ' then', 'timestamp': (39.76, 40.0)}, {'text': ' came', 'timestamp': (40.0, 40.44)}, {'text': ' my', 'timestamp': (40.44, 40.78)}, {'text': ' 90', 'timestamp': (40.78, 41.3)}, {'text': '-page', 'timestamp': (41.3, 41.76)}, {'text': ' senior', 'timestamp': (41.76, 42.4)}, {'text': ' thesis,', 'timestamp': (42.4, 43.28)}, {'text': ' a', 'timestamp': (43.52, 43.64)}, {'text': ' paper', 'timestamp': (43.64, 43.8)}, {'text': \" you're\", 'timestamp': (43.8, 43.94)}, {'text': ' supposed', 'timestamp': (43.94, 44.1)}, {'text': ' to', 'timestamp': (44.1, 44.22)}, {'text': ' spend', 'timestamp': (44.22, 44.42)}, {'text': ' a', 'timestamp': (44.42, 44.58)}, {'text': ' year', 'timestamp': (44.58, 44.86)}, {'text': ' on.', 'timestamp': (44.86, 45.32)}, {'text': ' I', 'timestamp': (45.86, 46.0)}, {'text': ' knew', 'timestamp': (46.0, 46.1)}, {'text': ' for', 'timestamp': (46.1, 46.24)}, {'text': ' a', 'timestamp': (46.24, 46.32)}, {'text': ' paper', 'timestamp': (46.32, 46.52)}, {'text': ' like', 'timestamp': (46.52, 46.72)}, {'text': ' that,', 'timestamp': (46.72, 47.14)}, {'text': ' my', 'timestamp': (47.14, 47.34)}, {'text': ' normal', 'timestamp': (47.34, 47.64)}, {'text': ' workflow', 'timestamp': (47.64, 48.28)}, {'text': ' was', 'timestamp': (48.28, 48.78)}, {'text': ' not', 'timestamp': (48.78, 48.92)}, {'text': ' an', 'timestamp': (48.92, 49.08)}, {'text': ' option,', 'timestamp': (49.08, 49.5)}, {'text': ' it', 'timestamp': (49.5, 49.56)}, {'text': ' was', 'timestamp': (49.56, 49.66)}, {'text': ' way', 'timestamp': (49.66, 49.78)}, {'text': ' too', 'timestamp': (49.78, 49.92)}, {'text': ' big', 'timestamp': (49.92, 50.04)}, {'text': ' a', 'timestamp': (50.04, 50.16)}, {'text': ' project.', 'timestamp': (50.16, 50.7)}, {'text': ' So', 'timestamp': (50.92, 51.02)}, {'text': ' I', 'timestamp': (51.02, 51.1)}, {'text': ' planned', 'timestamp': (51.1, 51.34)}, {'text': ' things', 'timestamp': (51.34, 51.56)}, {'text': ' out,', 'timestamp': (51.56, 51.88)}, {'text': ' and', 'timestamp': (51.88, 51.92)}, {'text': ' I', 'timestamp': (51.92, 51.96)}, {'text': ' decided', 'timestamp': (51.96, 52.32)}, {'text': ' I', 'timestamp': (52.32, 53.02)}, {'text': ' kind', 'timestamp': (53.02, 53.24)}, {'text': ' of', 'timestamp': (53.24, 53.4)}, {'text': ' had', 'timestamp': (53.4, 53.86)}, {'text': ' to', 'timestamp': (53.86, 54.0)}, {'text': ' go', 'timestamp': (54.0, 54.18)}, {'text': ' something', 'timestamp': (54.18, 54.46)}, {'text': ' like', 'timestamp': (54.46, 54.64)}, {'text': ' this.', 'timestamp': (54.64, 55.18)}, {'text': ' This', 'timestamp': (55.74, 55.92)}, {'text': ' is', 'timestamp': (55.92, 56.0)}, {'text': ' how', 'timestamp': (56.0, 56.1)}, {'text': ' the', 'timestamp': (56.1, 56.2)}, {'text': ' year', 'timestamp': (56.2, 56.36)}, {'text': ' would', 'timestamp': (56.36, 56.5)}, {'text': ' go.', 'timestamp': (56.5, 56.88)}, {'text': ' So', 'timestamp': (86.96, 86.96)}, {'text': \" I'd\", 'timestamp': (86.96, 86.96)}, {'text': ' start', 'timestamp': (86.96, 86.96)}, {'text': ' off', 'timestamp': (86.96, 86.96)}, {'text': ' light,', 'timestamp': (86.96, 86.96)}, {'text': ' and', 'timestamp': (86.96, 86.96)}, {'text': \" I'd\", 'timestamp': (86.96, 86.96)}, {'text': ' bump', 'timestamp': (86.96, 86.96)}, {'text': ' it', 'timestamp': (86.96, 86.96)}, {'text': ' up,', 'timestamp': (86.96, 86.96)}]\n"
          ]
        }
      ]
    },
    {
      "cell_type": "code",
      "source": [],
      "metadata": {
        "id": "2Ykg4KHp7uz9"
      },
      "execution_count": null,
      "outputs": []
    }
  ]
}